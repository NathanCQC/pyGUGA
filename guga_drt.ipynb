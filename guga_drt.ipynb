{
 "metadata": {
  "language_info": {
   "codemirror_mode": {
    "name": "ipython",
    "version": 3
   },
   "file_extension": ".py",
   "mimetype": "text/x-python",
   "name": "python",
   "nbconvert_exporter": "python",
   "pygments_lexer": "ipython3",
   "version": "3.6.9-final"
  },
  "orig_nbformat": 2,
  "kernelspec": {
   "name": "python3",
   "display_name": "Python 3.6.9 64-bit ('pytket60dev': conda)",
   "metadata": {
    "interpreter": {
     "hash": "b6b95c76f6d349ede2f77efedf5c317b3140d4c4f1c7ffaadd30b798ca170f2c"
    }
   }
  }
 },
 "nbformat": 4,
 "nbformat_minor": 2,
 "cells": [
  {
   "source": [
    "# GUGA Destinct Row Table Generator"
   ],
   "cell_type": "markdown",
   "metadata": {}
  },
  {
   "source": [
    "from guga_graph import ShavittGraph"
   ],
   "cell_type": "code",
   "metadata": {},
   "execution_count": null,
   "outputs": []
  },
  {
   "cell_type": "code",
   "execution_count": 2,
   "metadata": {},
   "outputs": [
    {
     "output_type": "execute_result",
     "data": {
      "text/plain": [
       "    a  b  c  u  uirrep    k0    k1    k2    k3    l0    l1    l2    l3\n",
       "j                                                                     \n",
       "1   3  0  3  6       1     2  None     3     4  None  None  None  None\n",
       "2   3  0  2  5       1     5  None     6     7     1  None  None  None\n",
       "3   2  1  2  5       2     6     7     8     9  None  None     1  None\n",
       "4   2  0  3  5       3     7  None     9    10  None  None  None     1\n",
       "5   3  0  1  4       1    11  None    12    13     2  None  None  None\n",
       "6   2  1  1  4       2    12    13    14    15     3  None     2  None\n",
       "7   2  0  2  4       3    13  None    15    16     4     3  None     2\n",
       "8   1  2  1  4       4    14    15    17    18  None  None     3  None\n",
       "9   1  1  2  4       5    15    16    18    19  None  None     4     3\n",
       "10  1  0  3  4       6    16  None    19    20  None  None  None     4\n",
       "11  3  0  0  3       1  None  None  None    21     5  None  None  None\n",
       "12  2  1  0  3       2  None    21  None    22     6  None     5  None\n",
       "13  2  0  1  3       3    21  None    22    23     7     6  None     5\n",
       "14  1  2  0  3       4  None    22  None    24     8  None     6  None\n",
       "15  1  1  1  3       5    22    23    24    25     9     8     7     6\n",
       "16  1  0  2  3       6    23  None    25    26    10     9  None     7\n",
       "17  0  3  0  3       7  None    24  None  None  None  None     8  None\n",
       "18  0  2  1  3       8    24    25  None  None  None  None     9     8\n",
       "19  0  1  2  3       9    25    26  None  None  None  None    10     9\n",
       "20  0  0  3  3      10    26  None  None  None  None  None  None    10\n",
       "21  2  0  0  2       1  None  None  None    27    13    12  None    11\n",
       "22  1  1  0  2       2  None    27  None    28    15    14    13    12\n",
       "23  1  0  1  2       3    27  None    28    29    16    15  None    13\n",
       "24  0  2  0  2       4  None    28  None  None    18    17    15    14\n",
       "25  0  1  1  2       5    28    29  None  None    19    18    16    15\n",
       "26  0  0  2  2       6    29  None  None  None    20    19  None    16\n",
       "27  1  0  0  1       1  None  None  None    30    23    22  None    21\n",
       "28  0  1  0  1       2  None    30  None  None    25    24    23    22\n",
       "29  0  0  1  1       3    30  None  None  None    26    25  None    23\n",
       "30  0  0  0  0       1  None  None  None  None    29    28  None    27"
      ],
      "text/html": "<div>\n<style scoped>\n    .dataframe tbody tr th:only-of-type {\n        vertical-align: middle;\n    }\n\n    .dataframe tbody tr th {\n        vertical-align: top;\n    }\n\n    .dataframe thead th {\n        text-align: right;\n    }\n</style>\n<table border=\"1\" class=\"dataframe\">\n  <thead>\n    <tr style=\"text-align: right;\">\n      <th></th>\n      <th>a</th>\n      <th>b</th>\n      <th>c</th>\n      <th>u</th>\n      <th>uirrep</th>\n      <th>k0</th>\n      <th>k1</th>\n      <th>k2</th>\n      <th>k3</th>\n      <th>l0</th>\n      <th>l1</th>\n      <th>l2</th>\n      <th>l3</th>\n    </tr>\n    <tr>\n      <th>j</th>\n      <th></th>\n      <th></th>\n      <th></th>\n      <th></th>\n      <th></th>\n      <th></th>\n      <th></th>\n      <th></th>\n      <th></th>\n      <th></th>\n      <th></th>\n      <th></th>\n      <th></th>\n    </tr>\n  </thead>\n  <tbody>\n    <tr>\n      <th>1</th>\n      <td>3</td>\n      <td>0</td>\n      <td>3</td>\n      <td>6</td>\n      <td>1</td>\n      <td>2</td>\n      <td>None</td>\n      <td>3</td>\n      <td>4</td>\n      <td>None</td>\n      <td>None</td>\n      <td>None</td>\n      <td>None</td>\n    </tr>\n    <tr>\n      <th>2</th>\n      <td>3</td>\n      <td>0</td>\n      <td>2</td>\n      <td>5</td>\n      <td>1</td>\n      <td>5</td>\n      <td>None</td>\n      <td>6</td>\n      <td>7</td>\n      <td>1</td>\n      <td>None</td>\n      <td>None</td>\n      <td>None</td>\n    </tr>\n    <tr>\n      <th>3</th>\n      <td>2</td>\n      <td>1</td>\n      <td>2</td>\n      <td>5</td>\n      <td>2</td>\n      <td>6</td>\n      <td>7</td>\n      <td>8</td>\n      <td>9</td>\n      <td>None</td>\n      <td>None</td>\n      <td>1</td>\n      <td>None</td>\n    </tr>\n    <tr>\n      <th>4</th>\n      <td>2</td>\n      <td>0</td>\n      <td>3</td>\n      <td>5</td>\n      <td>3</td>\n      <td>7</td>\n      <td>None</td>\n      <td>9</td>\n      <td>10</td>\n      <td>None</td>\n      <td>None</td>\n      <td>None</td>\n      <td>1</td>\n    </tr>\n    <tr>\n      <th>5</th>\n      <td>3</td>\n      <td>0</td>\n      <td>1</td>\n      <td>4</td>\n      <td>1</td>\n      <td>11</td>\n      <td>None</td>\n      <td>12</td>\n      <td>13</td>\n      <td>2</td>\n      <td>None</td>\n      <td>None</td>\n      <td>None</td>\n    </tr>\n    <tr>\n      <th>6</th>\n      <td>2</td>\n      <td>1</td>\n      <td>1</td>\n      <td>4</td>\n      <td>2</td>\n      <td>12</td>\n      <td>13</td>\n      <td>14</td>\n      <td>15</td>\n      <td>3</td>\n      <td>None</td>\n      <td>2</td>\n      <td>None</td>\n    </tr>\n    <tr>\n      <th>7</th>\n      <td>2</td>\n      <td>0</td>\n      <td>2</td>\n      <td>4</td>\n      <td>3</td>\n      <td>13</td>\n      <td>None</td>\n      <td>15</td>\n      <td>16</td>\n      <td>4</td>\n      <td>3</td>\n      <td>None</td>\n      <td>2</td>\n    </tr>\n    <tr>\n      <th>8</th>\n      <td>1</td>\n      <td>2</td>\n      <td>1</td>\n      <td>4</td>\n      <td>4</td>\n      <td>14</td>\n      <td>15</td>\n      <td>17</td>\n      <td>18</td>\n      <td>None</td>\n      <td>None</td>\n      <td>3</td>\n      <td>None</td>\n    </tr>\n    <tr>\n      <th>9</th>\n      <td>1</td>\n      <td>1</td>\n      <td>2</td>\n      <td>4</td>\n      <td>5</td>\n      <td>15</td>\n      <td>16</td>\n      <td>18</td>\n      <td>19</td>\n      <td>None</td>\n      <td>None</td>\n      <td>4</td>\n      <td>3</td>\n    </tr>\n    <tr>\n      <th>10</th>\n      <td>1</td>\n      <td>0</td>\n      <td>3</td>\n      <td>4</td>\n      <td>6</td>\n      <td>16</td>\n      <td>None</td>\n      <td>19</td>\n      <td>20</td>\n      <td>None</td>\n      <td>None</td>\n      <td>None</td>\n      <td>4</td>\n    </tr>\n    <tr>\n      <th>11</th>\n      <td>3</td>\n      <td>0</td>\n      <td>0</td>\n      <td>3</td>\n      <td>1</td>\n      <td>None</td>\n      <td>None</td>\n      <td>None</td>\n      <td>21</td>\n      <td>5</td>\n      <td>None</td>\n      <td>None</td>\n      <td>None</td>\n    </tr>\n    <tr>\n      <th>12</th>\n      <td>2</td>\n      <td>1</td>\n      <td>0</td>\n      <td>3</td>\n      <td>2</td>\n      <td>None</td>\n      <td>21</td>\n      <td>None</td>\n      <td>22</td>\n      <td>6</td>\n      <td>None</td>\n      <td>5</td>\n      <td>None</td>\n    </tr>\n    <tr>\n      <th>13</th>\n      <td>2</td>\n      <td>0</td>\n      <td>1</td>\n      <td>3</td>\n      <td>3</td>\n      <td>21</td>\n      <td>None</td>\n      <td>22</td>\n      <td>23</td>\n      <td>7</td>\n      <td>6</td>\n      <td>None</td>\n      <td>5</td>\n    </tr>\n    <tr>\n      <th>14</th>\n      <td>1</td>\n      <td>2</td>\n      <td>0</td>\n      <td>3</td>\n      <td>4</td>\n      <td>None</td>\n      <td>22</td>\n      <td>None</td>\n      <td>24</td>\n      <td>8</td>\n      <td>None</td>\n      <td>6</td>\n      <td>None</td>\n    </tr>\n    <tr>\n      <th>15</th>\n      <td>1</td>\n      <td>1</td>\n      <td>1</td>\n      <td>3</td>\n      <td>5</td>\n      <td>22</td>\n      <td>23</td>\n      <td>24</td>\n      <td>25</td>\n      <td>9</td>\n      <td>8</td>\n      <td>7</td>\n      <td>6</td>\n    </tr>\n    <tr>\n      <th>16</th>\n      <td>1</td>\n      <td>0</td>\n      <td>2</td>\n      <td>3</td>\n      <td>6</td>\n      <td>23</td>\n      <td>None</td>\n      <td>25</td>\n      <td>26</td>\n      <td>10</td>\n      <td>9</td>\n      <td>None</td>\n      <td>7</td>\n    </tr>\n    <tr>\n      <th>17</th>\n      <td>0</td>\n      <td>3</td>\n      <td>0</td>\n      <td>3</td>\n      <td>7</td>\n      <td>None</td>\n      <td>24</td>\n      <td>None</td>\n      <td>None</td>\n      <td>None</td>\n      <td>None</td>\n      <td>8</td>\n      <td>None</td>\n    </tr>\n    <tr>\n      <th>18</th>\n      <td>0</td>\n      <td>2</td>\n      <td>1</td>\n      <td>3</td>\n      <td>8</td>\n      <td>24</td>\n      <td>25</td>\n      <td>None</td>\n      <td>None</td>\n      <td>None</td>\n      <td>None</td>\n      <td>9</td>\n      <td>8</td>\n    </tr>\n    <tr>\n      <th>19</th>\n      <td>0</td>\n      <td>1</td>\n      <td>2</td>\n      <td>3</td>\n      <td>9</td>\n      <td>25</td>\n      <td>26</td>\n      <td>None</td>\n      <td>None</td>\n      <td>None</td>\n      <td>None</td>\n      <td>10</td>\n      <td>9</td>\n    </tr>\n    <tr>\n      <th>20</th>\n      <td>0</td>\n      <td>0</td>\n      <td>3</td>\n      <td>3</td>\n      <td>10</td>\n      <td>26</td>\n      <td>None</td>\n      <td>None</td>\n      <td>None</td>\n      <td>None</td>\n      <td>None</td>\n      <td>None</td>\n      <td>10</td>\n    </tr>\n    <tr>\n      <th>21</th>\n      <td>2</td>\n      <td>0</td>\n      <td>0</td>\n      <td>2</td>\n      <td>1</td>\n      <td>None</td>\n      <td>None</td>\n      <td>None</td>\n      <td>27</td>\n      <td>13</td>\n      <td>12</td>\n      <td>None</td>\n      <td>11</td>\n    </tr>\n    <tr>\n      <th>22</th>\n      <td>1</td>\n      <td>1</td>\n      <td>0</td>\n      <td>2</td>\n      <td>2</td>\n      <td>None</td>\n      <td>27</td>\n      <td>None</td>\n      <td>28</td>\n      <td>15</td>\n      <td>14</td>\n      <td>13</td>\n      <td>12</td>\n    </tr>\n    <tr>\n      <th>23</th>\n      <td>1</td>\n      <td>0</td>\n      <td>1</td>\n      <td>2</td>\n      <td>3</td>\n      <td>27</td>\n      <td>None</td>\n      <td>28</td>\n      <td>29</td>\n      <td>16</td>\n      <td>15</td>\n      <td>None</td>\n      <td>13</td>\n    </tr>\n    <tr>\n      <th>24</th>\n      <td>0</td>\n      <td>2</td>\n      <td>0</td>\n      <td>2</td>\n      <td>4</td>\n      <td>None</td>\n      <td>28</td>\n      <td>None</td>\n      <td>None</td>\n      <td>18</td>\n      <td>17</td>\n      <td>15</td>\n      <td>14</td>\n    </tr>\n    <tr>\n      <th>25</th>\n      <td>0</td>\n      <td>1</td>\n      <td>1</td>\n      <td>2</td>\n      <td>5</td>\n      <td>28</td>\n      <td>29</td>\n      <td>None</td>\n      <td>None</td>\n      <td>19</td>\n      <td>18</td>\n      <td>16</td>\n      <td>15</td>\n    </tr>\n    <tr>\n      <th>26</th>\n      <td>0</td>\n      <td>0</td>\n      <td>2</td>\n      <td>2</td>\n      <td>6</td>\n      <td>29</td>\n      <td>None</td>\n      <td>None</td>\n      <td>None</td>\n      <td>20</td>\n      <td>19</td>\n      <td>None</td>\n      <td>16</td>\n    </tr>\n    <tr>\n      <th>27</th>\n      <td>1</td>\n      <td>0</td>\n      <td>0</td>\n      <td>1</td>\n      <td>1</td>\n      <td>None</td>\n      <td>None</td>\n      <td>None</td>\n      <td>30</td>\n      <td>23</td>\n      <td>22</td>\n      <td>None</td>\n      <td>21</td>\n    </tr>\n    <tr>\n      <th>28</th>\n      <td>0</td>\n      <td>1</td>\n      <td>0</td>\n      <td>1</td>\n      <td>2</td>\n      <td>None</td>\n      <td>30</td>\n      <td>None</td>\n      <td>None</td>\n      <td>25</td>\n      <td>24</td>\n      <td>23</td>\n      <td>22</td>\n    </tr>\n    <tr>\n      <th>29</th>\n      <td>0</td>\n      <td>0</td>\n      <td>1</td>\n      <td>1</td>\n      <td>3</td>\n      <td>30</td>\n      <td>None</td>\n      <td>None</td>\n      <td>None</td>\n      <td>26</td>\n      <td>25</td>\n      <td>None</td>\n      <td>23</td>\n    </tr>\n    <tr>\n      <th>30</th>\n      <td>0</td>\n      <td>0</td>\n      <td>0</td>\n      <td>0</td>\n      <td>1</td>\n      <td>None</td>\n      <td>None</td>\n      <td>None</td>\n      <td>None</td>\n      <td>29</td>\n      <td>28</td>\n      <td>None</td>\n      <td>27</td>\n    </tr>\n  </tbody>\n</table>\n</div>"
     },
     "metadata": {},
     "execution_count": 2
    }
   ],
   "source": [
    "abc = (3,0,3)\n",
    "guga = ShavittGraph(abc)\n",
    "guga.distinct_row_table"
   ]
  },
  {
   "cell_type": "code",
   "execution_count": null,
   "metadata": {},
   "outputs": [],
   "source": []
  }
 ]
}