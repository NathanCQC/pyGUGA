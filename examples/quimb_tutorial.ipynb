{
 "metadata": {
  "language_info": {
   "codemirror_mode": {
    "name": "ipython",
    "version": 3
   },
   "file_extension": ".py",
   "mimetype": "text/x-python",
   "name": "python",
   "nbconvert_exporter": "python",
   "pygments_lexer": "ipython3",
   "version": "3.9.5"
  },
  "orig_nbformat": 2,
  "kernelspec": {
   "name": "python395jvsc74a57bd046e69c2f0939830df6349610757705489573c326ba50805cb2be6521b79ed1c0",
   "display_name": "Python 3.9.5 64-bit ('pyguga': conda)"
  },
  "metadata": {
   "interpreter": {
    "hash": "46e69c2f0939830df6349610757705489573c326ba50805cb2be6521b79ed1c0"
   }
  }
 },
 "nbformat": 4,
 "nbformat_minor": 2,
 "cells": [
  {
   "cell_type": "code",
   "execution_count": 15,
   "metadata": {},
   "outputs": [],
   "source": [
    "%config InlineBackend.figure_formats = ['svg']\n",
    "import quimb as qu\n",
    "import quimb.tensor as qtn\n",
    "import numpy as np"
   ]
  },
  {
   "cell_type": "code",
   "execution_count": 17,
   "metadata": {},
   "outputs": [
    {
     "output_type": "stream",
     "name": "stdout",
     "text": [
      "<class 'quimb.core.qarray'>\n[[0.80009851 0.49299112]\n [0.05703139 0.464982  ]]\n"
     ]
    },
    {
     "output_type": "execute_result",
     "data": {
      "text/plain": [
       "Tensor(shape=(2, 2), inds=('k0', 'k1'), tags={'KET'})"
      ]
     },
     "metadata": {},
     "execution_count": 17
    }
   ],
   "source": [
    "data = qu.bell_state('psi-').reshape(2, 2)\n",
    "print(type(data))\n",
    "data_np = np.random.rand(2,2)\n",
    "print(data_np)\n",
    "ket = qtn.Tensor(data, inds=('k0', 'k1'), tags={'KET'}) #It does work with numpy arrays\n",
    "ket"
   ]
  },
  {
   "cell_type": "code",
   "execution_count": 10,
   "metadata": {},
   "outputs": [
    {
     "output_type": "execute_result",
     "data": {
      "text/plain": [
       "Tensor(shape=(2, 2), inds=('k0', 'b0'), tags={'X', 'PAULI', '0'})"
      ]
     },
     "metadata": {},
     "execution_count": 10
    }
   ],
   "source": [
    "X = qtn.Tensor(qu.pauli('X'), inds=('k0', 'b0'), tags=['PAULI', 'X', '0'])\n",
    "Y = qtn.Tensor(qu.pauli('Y'), inds=('k1', 'b1'), tags=['PAULI', 'Y', '1'])\n",
    "X"
   ]
  },
  {
   "cell_type": "code",
   "execution_count": 11,
   "metadata": {},
   "outputs": [
    {
     "output_type": "execute_result",
     "data": {
      "text/plain": [
       "Tensor(shape=(2, 2), inds=('b0', 'b1'), tags={'BRA'})"
      ]
     },
     "metadata": {},
     "execution_count": 11
    }
   ],
   "source": [
    "bra = qtn.Tensor(qu.rand_ket(4).reshape(2, 2), inds=('b0', 'b1'), tags={'BRA'})\n",
    "bra"
   ]
  },
  {
   "cell_type": "code",
   "execution_count": 19,
   "metadata": {},
   "outputs": [
    {
     "output_type": "stream",
     "name": "stdout",
     "text": [
      "TensorNetwork([\n    Tensor(shape=(2, 2), inds=('k0', 'k1'), tags={'KET'}),\n    Tensor(shape=(2, 2), inds=('k0', 'b0'), tags={'X', 'PAULI', '0'}),\n    Tensor(shape=(2, 2), inds=('k1', 'b1'), tags={'Y', '1', 'PAULI'}),\n    Tensor(shape=(2, 2), inds=('b0', 'b1'), tags={'BRA'}),\n])\n"
     ]
    }
   ],
   "source": [
    "TN = ket.H & X & Y & bra\n",
    "print(TN)"
   ]
  },
  {
   "cell_type": "code",
   "execution_count": 20,
   "metadata": {},
   "outputs": [
    {
     "output_type": "display_data",
     "data": {
      "text/plain": "<Figure size 432x432 with 1 Axes>",
      "image/svg+xml": "<?xml version=\"1.0\" encoding=\"utf-8\" standalone=\"no\"?>\n<!DOCTYPE svg PUBLIC \"-//W3C//DTD SVG 1.1//EN\"\n  \"http://www.w3.org/Graphics/SVG/1.1/DTD/svg11.dtd\">\n<svg height=\"440.39952pt\" version=\"1.1\" viewBox=\"0 0 439.523568 440.39952\" width=\"439.523568pt\" xmlns=\"http://www.w3.org/2000/svg\" xmlns:xlink=\"http://www.w3.org/1999/xlink\">\n <metadata>\n  <rdf:RDF xmlns:cc=\"http://creativecommons.org/ns#\" xmlns:dc=\"http://purl.org/dc/elements/1.1/\" xmlns:rdf=\"http://www.w3.org/1999/02/22-rdf-syntax-ns#\">\n   <cc:Work>\n    <dc:type rdf:resource=\"http://purl.org/dc/dcmitype/StillImage\"/>\n    <dc:date>2021-06-06T13:03:03.619486</dc:date>\n    <dc:format>image/svg+xml</dc:format>\n    <dc:creator>\n     <cc:Agent>\n      <dc:title>Matplotlib v3.4.2, https://matplotlib.org/</dc:title>\n     </cc:Agent>\n    </dc:creator>\n   </cc:Work>\n  </rdf:RDF>\n </metadata>\n <defs>\n  <style type=\"text/css\">*{stroke-linecap:butt;stroke-linejoin:round;}</style>\n </defs>\n <g id=\"figure_1\">\n  <g id=\"patch_1\">\n   <path d=\"M 0 440.39952 \nL 439.523568 440.39952 \nL 439.523568 0 \nL 0 0 \nz\n\" style=\"fill:none;\"/>\n  </g>\n  <g id=\"axes_1\">\n   <g id=\"LineCollection_1\">\n    <path clip-path=\"url(#peb40c35163)\" d=\"M 258.321407 26.563615 \nL 26.523799 181.719424 \n\" style=\"fill:none;stroke:#000000;stroke-opacity:0.333333;\"/>\n    <path clip-path=\"url(#peb40c35163)\" d=\"M 258.321407 26.563615 \nL 412.99977 258.680096 \n\" style=\"fill:none;stroke:#000000;stroke-opacity:0.333333;\"/>\n    <path clip-path=\"url(#peb40c35163)\" d=\"M 26.523799 181.719424 \nL 181.202161 413.835905 \n\" style=\"fill:none;stroke:#000000;stroke-opacity:0.333333;\"/>\n    <path clip-path=\"url(#peb40c35163)\" d=\"M 412.99977 258.680096 \nL 181.202161 413.835905 \n\" style=\"fill:none;stroke:#000000;stroke-opacity:0.333333;\"/>\n   </g>\n   <g id=\"PathCollection_1\">\n    <path clip-path=\"url(#peb40c35163)\" d=\"M 258.321407 36.296666 \nC 260.902643 36.296666 263.378505 35.27113 265.203714 33.445921 \nC 267.028923 31.620712 268.054459 29.14485 268.054459 26.563615 \nC 268.054459 23.982379 267.028923 21.506517 265.203714 19.681308 \nC 263.378505 17.856099 260.902643 16.830563 258.321407 16.830563 \nC 255.740172 16.830563 253.26431 17.856099 251.439101 19.681308 \nC 249.613892 21.506517 248.588356 23.982379 248.588356 26.563615 \nC 248.588356 29.14485 249.613892 31.620712 251.439101 33.445921 \nC 253.26431 35.27113 255.740172 36.296666 258.321407 36.296666 \nz\n\" style=\"fill:#666666;stroke:#525252;stroke-width:1.94661;\"/>\n    <path clip-path=\"url(#peb40c35163)\" d=\"M 26.523799 191.452475 \nC 29.105034 191.452475 31.580896 190.426939 33.406105 188.60173 \nC 35.231314 186.776521 36.25685 184.300659 36.25685 181.719424 \nC 36.25685 179.138189 35.231314 176.662327 33.406105 174.837117 \nC 31.580896 173.011908 29.105034 171.986373 26.523799 171.986373 \nC 23.942563 171.986373 21.466701 173.011908 19.641492 174.837117 \nC 17.816283 176.662327 16.790747 179.138189 16.790747 181.719424 \nC 16.790747 184.300659 17.816283 186.776521 19.641492 188.60173 \nC 21.466701 190.426939 23.942563 191.452475 26.523799 191.452475 \nz\n\" style=\"fill:#666666;stroke:#525252;stroke-width:1.94661;\"/>\n    <path clip-path=\"url(#peb40c35163)\" d=\"M 412.99977 268.413147 \nC 415.581005 268.413147 418.056867 267.387612 419.882076 265.562403 \nC 421.707285 263.737193 422.732821 261.261331 422.732821 258.680096 \nC 422.732821 256.098861 421.707285 253.622999 419.882076 251.79779 \nC 418.056867 249.972581 415.581005 248.947045 412.99977 248.947045 \nC 410.418534 248.947045 407.942672 249.972581 406.117463 251.79779 \nC 404.292254 253.622999 403.266718 256.098861 403.266718 258.680096 \nC 403.266718 261.261331 404.292254 263.737193 406.117463 265.562403 \nC 407.942672 267.387612 410.418534 268.413147 412.99977 268.413147 \nz\n\" style=\"fill:#666666;stroke:#525252;stroke-width:1.94661;\"/>\n    <path clip-path=\"url(#peb40c35163)\" d=\"M 181.202161 423.568957 \nC 183.783396 423.568957 186.259258 422.543421 188.084467 420.718212 \nC 189.909676 418.893003 190.935212 416.417141 190.935212 413.835905 \nC 190.935212 411.25467 189.909676 408.778808 188.084467 406.953599 \nC 186.259258 405.12839 183.783396 404.102854 181.202161 404.102854 \nC 178.620925 404.102854 176.145063 405.12839 174.319854 406.953599 \nC 172.494645 408.778808 171.46911 411.25467 171.46911 413.835905 \nC 171.46911 416.417141 172.494645 418.893003 174.319854 420.718212 \nC 176.145063 422.543421 178.620925 423.568957 181.202161 423.568957 \nz\n\" style=\"fill:#666666;stroke:#525252;stroke-width:1.94661;\"/>\n   </g>\n   <g id=\"text_1\">\n    <g clip-path=\"url(#peb40c35163)\">\n     <!-- {'KET'} -->\n     <g transform=\"translate(239.718282 29.32299)scale(0.1 -0.1)\">\n      <defs>\n       <path d=\"M 3272 -594 \nL 3272 -1044 \nL 3078 -1044 \nQ 2300 -1044 2036 -812 \nQ 1772 -581 1772 109 \nL 1772 856 \nQ 1772 1328 1603 1509 \nQ 1434 1691 991 1691 \nL 800 1691 \nL 800 2138 \nL 991 2138 \nQ 1438 2138 1605 2317 \nQ 1772 2497 1772 2963 \nL 1772 3713 \nQ 1772 4403 2036 4633 \nQ 2300 4863 3078 4863 \nL 3272 4863 \nL 3272 4416 \nL 3059 4416 \nQ 2619 4416 2484 4278 \nQ 2350 4141 2350 3700 \nL 2350 2925 \nQ 2350 2434 2208 2212 \nQ 2066 1991 1722 1913 \nQ 2069 1828 2209 1606 \nQ 2350 1384 2350 897 \nL 2350 122 \nQ 2350 -319 2484 -456 \nQ 2619 -594 3059 -594 \nL 3272 -594 \nz\n\" id=\"DejaVuSans-7b\" transform=\"scale(0.015625)\"/>\n       <path d=\"M 1147 4666 \nL 1147 2931 \nL 616 2931 \nL 616 4666 \nL 1147 4666 \nz\n\" id=\"DejaVuSans-27\" transform=\"scale(0.015625)\"/>\n       <path d=\"M 628 4666 \nL 1259 4666 \nL 1259 2694 \nL 3353 4666 \nL 4166 4666 \nL 1850 2491 \nL 4331 0 \nL 3500 0 \nL 1259 2247 \nL 1259 0 \nL 628 0 \nL 628 4666 \nz\n\" id=\"DejaVuSans-4b\" transform=\"scale(0.015625)\"/>\n       <path d=\"M 628 4666 \nL 3578 4666 \nL 3578 4134 \nL 1259 4134 \nL 1259 2753 \nL 3481 2753 \nL 3481 2222 \nL 1259 2222 \nL 1259 531 \nL 3634 531 \nL 3634 0 \nL 628 0 \nL 628 4666 \nz\n\" id=\"DejaVuSans-45\" transform=\"scale(0.015625)\"/>\n       <path d=\"M -19 4666 \nL 3928 4666 \nL 3928 4134 \nL 2272 4134 \nL 2272 0 \nL 1638 0 \nL 1638 4134 \nL -19 4134 \nL -19 4666 \nz\n\" id=\"DejaVuSans-54\" transform=\"scale(0.015625)\"/>\n       <path d=\"M 800 -594 \nL 1019 -594 \nQ 1456 -594 1589 -459 \nQ 1722 -325 1722 122 \nL 1722 897 \nQ 1722 1384 1862 1606 \nQ 2003 1828 2350 1913 \nQ 2003 1991 1862 2212 \nQ 1722 2434 1722 2925 \nL 1722 3700 \nQ 1722 4144 1589 4280 \nQ 1456 4416 1019 4416 \nL 800 4416 \nL 800 4863 \nL 997 4863 \nQ 1775 4863 2036 4633 \nQ 2297 4403 2297 3713 \nL 2297 2963 \nQ 2297 2497 2465 2317 \nQ 2634 2138 3078 2138 \nL 3272 2138 \nL 3272 1691 \nL 3078 1691 \nQ 2634 1691 2465 1509 \nQ 2297 1328 2297 856 \nL 2297 109 \nQ 2297 -581 2036 -812 \nQ 1775 -1044 997 -1044 \nL 800 -1044 \nL 800 -594 \nz\n\" id=\"DejaVuSans-7d\" transform=\"scale(0.015625)\"/>\n      </defs>\n      <use xlink:href=\"#DejaVuSans-7b\"/>\n      <use x=\"63.623047\" xlink:href=\"#DejaVuSans-27\"/>\n      <use x=\"91.113281\" xlink:href=\"#DejaVuSans-4b\"/>\n      <use x=\"156.689453\" xlink:href=\"#DejaVuSans-45\"/>\n      <use x=\"219.873047\" xlink:href=\"#DejaVuSans-54\"/>\n      <use x=\"280.957031\" xlink:href=\"#DejaVuSans-27\"/>\n      <use x=\"308.447266\" xlink:href=\"#DejaVuSans-7d\"/>\n     </g>\n    </g>\n   </g>\n   <g id=\"text_2\">\n    <g clip-path=\"url(#peb40c35163)\">\n     <!-- {'X', 'PAULI', '0'} -->\n     <g transform=\"translate(-15.083233 184.478799)scale(0.1 -0.1)\">\n      <defs>\n       <path d=\"M 403 4666 \nL 1081 4666 \nL 2241 2931 \nL 3406 4666 \nL 4084 4666 \nL 2584 2425 \nL 4184 0 \nL 3506 0 \nL 2194 1984 \nL 872 0 \nL 191 0 \nL 1856 2491 \nL 403 4666 \nz\n\" id=\"DejaVuSans-58\" transform=\"scale(0.015625)\"/>\n       <path d=\"M 750 794 \nL 1409 794 \nL 1409 256 \nL 897 -744 \nL 494 -744 \nL 750 256 \nL 750 794 \nz\n\" id=\"DejaVuSans-2c\" transform=\"scale(0.015625)\"/>\n       <path id=\"DejaVuSans-20\" transform=\"scale(0.015625)\"/>\n       <path d=\"M 1259 4147 \nL 1259 2394 \nL 2053 2394 \nQ 2494 2394 2734 2622 \nQ 2975 2850 2975 3272 \nQ 2975 3691 2734 3919 \nQ 2494 4147 2053 4147 \nL 1259 4147 \nz\nM 628 4666 \nL 2053 4666 \nQ 2838 4666 3239 4311 \nQ 3641 3956 3641 3272 \nQ 3641 2581 3239 2228 \nQ 2838 1875 2053 1875 \nL 1259 1875 \nL 1259 0 \nL 628 0 \nL 628 4666 \nz\n\" id=\"DejaVuSans-50\" transform=\"scale(0.015625)\"/>\n       <path d=\"M 2188 4044 \nL 1331 1722 \nL 3047 1722 \nL 2188 4044 \nz\nM 1831 4666 \nL 2547 4666 \nL 4325 0 \nL 3669 0 \nL 3244 1197 \nL 1141 1197 \nL 716 0 \nL 50 0 \nL 1831 4666 \nz\n\" id=\"DejaVuSans-41\" transform=\"scale(0.015625)\"/>\n       <path d=\"M 556 4666 \nL 1191 4666 \nL 1191 1831 \nQ 1191 1081 1462 751 \nQ 1734 422 2344 422 \nQ 2950 422 3222 751 \nQ 3494 1081 3494 1831 \nL 3494 4666 \nL 4128 4666 \nL 4128 1753 \nQ 4128 841 3676 375 \nQ 3225 -91 2344 -91 \nQ 1459 -91 1007 375 \nQ 556 841 556 1753 \nL 556 4666 \nz\n\" id=\"DejaVuSans-55\" transform=\"scale(0.015625)\"/>\n       <path d=\"M 628 4666 \nL 1259 4666 \nL 1259 531 \nL 3531 531 \nL 3531 0 \nL 628 0 \nL 628 4666 \nz\n\" id=\"DejaVuSans-4c\" transform=\"scale(0.015625)\"/>\n       <path d=\"M 628 4666 \nL 1259 4666 \nL 1259 0 \nL 628 0 \nL 628 4666 \nz\n\" id=\"DejaVuSans-49\" transform=\"scale(0.015625)\"/>\n       <path d=\"M 2034 4250 \nQ 1547 4250 1301 3770 \nQ 1056 3291 1056 2328 \nQ 1056 1369 1301 889 \nQ 1547 409 2034 409 \nQ 2525 409 2770 889 \nQ 3016 1369 3016 2328 \nQ 3016 3291 2770 3770 \nQ 2525 4250 2034 4250 \nz\nM 2034 4750 \nQ 2819 4750 3233 4129 \nQ 3647 3509 3647 2328 \nQ 3647 1150 3233 529 \nQ 2819 -91 2034 -91 \nQ 1250 -91 836 529 \nQ 422 1150 422 2328 \nQ 422 3509 836 4129 \nQ 1250 4750 2034 4750 \nz\n\" id=\"DejaVuSans-30\" transform=\"scale(0.015625)\"/>\n      </defs>\n      <use xlink:href=\"#DejaVuSans-7b\"/>\n      <use x=\"63.623047\" xlink:href=\"#DejaVuSans-27\"/>\n      <use x=\"91.113281\" xlink:href=\"#DejaVuSans-58\"/>\n      <use x=\"159.619141\" xlink:href=\"#DejaVuSans-27\"/>\n      <use x=\"187.109375\" xlink:href=\"#DejaVuSans-2c\"/>\n      <use x=\"218.896484\" xlink:href=\"#DejaVuSans-20\"/>\n      <use x=\"250.683594\" xlink:href=\"#DejaVuSans-27\"/>\n      <use x=\"278.173828\" xlink:href=\"#DejaVuSans-50\"/>\n      <use x=\"332.101562\" xlink:href=\"#DejaVuSans-41\"/>\n      <use x=\"400.509766\" xlink:href=\"#DejaVuSans-55\"/>\n      <use x=\"473.703125\" xlink:href=\"#DejaVuSans-4c\"/>\n      <use x=\"529.416016\" xlink:href=\"#DejaVuSans-49\"/>\n      <use x=\"558.908203\" xlink:href=\"#DejaVuSans-27\"/>\n      <use x=\"586.398438\" xlink:href=\"#DejaVuSans-2c\"/>\n      <use x=\"618.185547\" xlink:href=\"#DejaVuSans-20\"/>\n      <use x=\"649.972656\" xlink:href=\"#DejaVuSans-27\"/>\n      <use x=\"677.462891\" xlink:href=\"#DejaVuSans-30\"/>\n      <use x=\"741.085938\" xlink:href=\"#DejaVuSans-27\"/>\n      <use x=\"768.576172\" xlink:href=\"#DejaVuSans-7d\"/>\n     </g>\n    </g>\n   </g>\n   <g id=\"text_3\">\n    <g clip-path=\"url(#peb40c35163)\">\n     <!-- {'Y', '1', 'PAULI'} -->\n     <g transform=\"translate(371.763832 261.439471)scale(0.1 -0.1)\">\n      <defs>\n       <path d=\"M -13 4666 \nL 666 4666 \nL 1959 2747 \nL 3244 4666 \nL 3922 4666 \nL 2272 2222 \nL 2272 0 \nL 1638 0 \nL 1638 2222 \nL -13 4666 \nz\n\" id=\"DejaVuSans-59\" transform=\"scale(0.015625)\"/>\n       <path d=\"M 794 531 \nL 1825 531 \nL 1825 4091 \nL 703 3866 \nL 703 4441 \nL 1819 4666 \nL 2450 4666 \nL 2450 531 \nL 3481 531 \nL 3481 0 \nL 794 0 \nL 794 531 \nz\n\" id=\"DejaVuSans-31\" transform=\"scale(0.015625)\"/>\n      </defs>\n      <use xlink:href=\"#DejaVuSans-7b\"/>\n      <use x=\"63.623047\" xlink:href=\"#DejaVuSans-27\"/>\n      <use x=\"91.113281\" xlink:href=\"#DejaVuSans-59\"/>\n      <use x=\"152.197266\" xlink:href=\"#DejaVuSans-27\"/>\n      <use x=\"179.6875\" xlink:href=\"#DejaVuSans-2c\"/>\n      <use x=\"211.474609\" xlink:href=\"#DejaVuSans-20\"/>\n      <use x=\"243.261719\" xlink:href=\"#DejaVuSans-27\"/>\n      <use x=\"270.751953\" xlink:href=\"#DejaVuSans-31\"/>\n      <use x=\"334.375\" xlink:href=\"#DejaVuSans-27\"/>\n      <use x=\"361.865234\" xlink:href=\"#DejaVuSans-2c\"/>\n      <use x=\"393.652344\" xlink:href=\"#DejaVuSans-20\"/>\n      <use x=\"425.439453\" xlink:href=\"#DejaVuSans-27\"/>\n      <use x=\"452.929688\" xlink:href=\"#DejaVuSans-50\"/>\n      <use x=\"506.857422\" xlink:href=\"#DejaVuSans-41\"/>\n      <use x=\"575.265625\" xlink:href=\"#DejaVuSans-55\"/>\n      <use x=\"648.458984\" xlink:href=\"#DejaVuSans-4c\"/>\n      <use x=\"704.171875\" xlink:href=\"#DejaVuSans-49\"/>\n      <use x=\"733.664062\" xlink:href=\"#DejaVuSans-27\"/>\n      <use x=\"761.154297\" xlink:href=\"#DejaVuSans-7d\"/>\n     </g>\n    </g>\n   </g>\n   <g id=\"text_4\">\n    <g clip-path=\"url(#peb40c35163)\">\n     <!-- {'BRA'} -->\n     <g transform=\"translate(161.966223 416.59528)scale(0.1 -0.1)\">\n      <defs>\n       <path d=\"M 1259 2228 \nL 1259 519 \nL 2272 519 \nQ 2781 519 3026 730 \nQ 3272 941 3272 1375 \nQ 3272 1813 3026 2020 \nQ 2781 2228 2272 2228 \nL 1259 2228 \nz\nM 1259 4147 \nL 1259 2741 \nL 2194 2741 \nQ 2656 2741 2882 2914 \nQ 3109 3088 3109 3444 \nQ 3109 3797 2882 3972 \nQ 2656 4147 2194 4147 \nL 1259 4147 \nz\nM 628 4666 \nL 2241 4666 \nQ 2963 4666 3353 4366 \nQ 3744 4066 3744 3513 \nQ 3744 3084 3544 2831 \nQ 3344 2578 2956 2516 \nQ 3422 2416 3680 2098 \nQ 3938 1781 3938 1306 \nQ 3938 681 3513 340 \nQ 3088 0 2303 0 \nL 628 0 \nL 628 4666 \nz\n\" id=\"DejaVuSans-42\" transform=\"scale(0.015625)\"/>\n       <path d=\"M 2841 2188 \nQ 3044 2119 3236 1894 \nQ 3428 1669 3622 1275 \nL 4263 0 \nL 3584 0 \nL 2988 1197 \nQ 2756 1666 2539 1819 \nQ 2322 1972 1947 1972 \nL 1259 1972 \nL 1259 0 \nL 628 0 \nL 628 4666 \nL 2053 4666 \nQ 2853 4666 3247 4331 \nQ 3641 3997 3641 3322 \nQ 3641 2881 3436 2590 \nQ 3231 2300 2841 2188 \nz\nM 1259 4147 \nL 1259 2491 \nL 2053 2491 \nQ 2509 2491 2742 2702 \nQ 2975 2913 2975 3322 \nQ 2975 3731 2742 3939 \nQ 2509 4147 2053 4147 \nL 1259 4147 \nz\n\" id=\"DejaVuSans-52\" transform=\"scale(0.015625)\"/>\n      </defs>\n      <use xlink:href=\"#DejaVuSans-7b\"/>\n      <use x=\"63.623047\" xlink:href=\"#DejaVuSans-27\"/>\n      <use x=\"91.113281\" xlink:href=\"#DejaVuSans-42\"/>\n      <use x=\"159.716797\" xlink:href=\"#DejaVuSans-52\"/>\n      <use x=\"225.199219\" xlink:href=\"#DejaVuSans-41\"/>\n      <use x=\"293.607422\" xlink:href=\"#DejaVuSans-27\"/>\n      <use x=\"321.097656\" xlink:href=\"#DejaVuSans-7d\"/>\n     </g>\n    </g>\n   </g>\n  </g>\n </g>\n <defs>\n  <clipPath id=\"peb40c35163\">\n   <rect height=\"425.99952\" width=\"425.123568\" x=\"7.2\" y=\"7.2\"/>\n  </clipPath>\n </defs>\n</svg>\n"
     },
     "metadata": {}
    }
   ],
   "source": []
  },
  {
   "cell_type": "code",
   "execution_count": null,
   "metadata": {},
   "outputs": [],
   "source": []
  }
 ]
}